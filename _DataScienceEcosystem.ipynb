{
 "cells": [
  {
   "cell_type": "code",
   "execution_count": null,
   "id": "81a3dfc7-cfbe-4464-9da0-b26366ffa337",
   "metadata": {},
   "outputs": [],
   "source": [
    "# Data Science Tools and Ecosystem\n"
   ]
  },
  {
   "cell_type": "code",
   "execution_count": 2,
   "id": "3746d3d2-2f69-4366-b272-ede19eab61c4",
   "metadata": {
    "tags": []
   },
   "outputs": [],
   "source": [
    "#In this notebook, Data Science Tools and Ecosystem are summarized.\n",
    "\n"
   ]
  },
  {
   "cell_type": "code",
   "execution_count": 4,
   "id": "db62d08c-2040-4823-b1e8-3b46a2e6d579",
   "metadata": {
    "tags": []
   },
   "outputs": [],
   "source": [
    "#Some of the popular languages that Data Scientists use are:\n",
    "#1. Python\n",
    "#2. R\n",
    "#3. SQL\n",
    "\n"
   ]
  },
  {
   "cell_type": "code",
   "execution_count": 6,
   "id": "f7b9c73d-dff3-4be5-951a-8aa1a036cfeb",
   "metadata": {
    "tags": []
   },
   "outputs": [],
   "source": [
    "#Some of the commonly used libraries used by Data Scientists include:\n",
    "#- NumPy\n",
    "#- Pandas\n",
    "#- Matplotlib\n"
   ]
  },
  {
   "cell_type": "code",
   "execution_count": 8,
   "id": "4f8c52a0-e21a-4509-aff6-1550d3b514e5",
   "metadata": {
    "tags": []
   },
   "outputs": [],
   "source": [
    "#| Data Science Tools |\n",
    "#|--------------------|\n",
    "#| Jupyter Notebook   |\n",
    "#| RStudio            |\n",
    "#| Spyder             |\n"
   ]
  },
  {
   "cell_type": "code",
   "execution_count": 9,
   "id": "9c9e7cf3-8eec-44c2-a9bc-851725cbfdae",
   "metadata": {
    "tags": []
   },
   "outputs": [
    {
     "name": "stdout",
     "output_type": "stream",
     "text": [
      "5 + 3 = 8\n",
      "10 - 7 = 3\n",
      "4 * 6 = 24\n",
      "20 / 5 = 4.0\n",
      "2 ** 3 = 8\n"
     ]
    }
   ],
   "source": [
    "### Below are a few examples of evaluating arithmetic expressions in Python.\n",
    "# Example 1: Addition\n",
    "result1 = 5 + 3\n",
    "print(\"5 + 3 =\", result1)\n",
    "\n",
    "# Example 2: Subtraction\n",
    "result2 = 10 - 7\n",
    "print(\"10 - 7 =\", result2)\n",
    "\n",
    "# Example 3: Multiplication\n",
    "result3 = 4 * 6\n",
    "print(\"4 * 6 =\", result3)\n",
    "\n",
    "# Example 4: Division\n",
    "result4 = 20 / 5\n",
    "print(\"20 / 5 =\", result4)\n",
    "\n",
    "# Example 5: Exponentiation\n",
    "result5 = 2 ** 3\n",
    "print(\"2 ** 3 =\", result5)\n"
   ]
  },
  {
   "cell_type": "code",
   "execution_count": 10,
   "id": "b5c6ccb3-f8d9-4ab2-b144-6eecd84b8cd6",
   "metadata": {
    "tags": []
   },
   "outputs": [
    {
     "data": {
      "text/plain": [
       "17"
      ]
     },
     "execution_count": 10,
     "metadata": {},
     "output_type": "execute_result"
    }
   ],
   "source": [
    "# This is a simple arithmetic expression to multiply then add integers.\n",
    "(3*4)+5\n"
   ]
  },
  {
   "cell_type": "code",
   "execution_count": 11,
   "id": "778e505b-b506-4991-9ffc-9cd1286276dd",
   "metadata": {
    "tags": []
   },
   "outputs": [
    {
     "data": {
      "text/plain": [
       "3.3333333333333335"
      ]
     },
     "execution_count": 11,
     "metadata": {},
     "output_type": "execute_result"
    }
   ],
   "source": [
    "# This will convert 200 minutes to hours by dividing by 60.\n",
    "200 / 60\n"
   ]
  },
  {
   "cell_type": "code",
   "execution_count": 12,
   "id": "e19d72fe-0b59-4c38-8fcd-e3dbb336196a",
   "metadata": {
    "tags": []
   },
   "outputs": [],
   "source": [
    "#**Objectives:**\n",
    "#- List popular languages for Data Science.\n",
    "#- Introduce common libraries used in Data Science.\n",
    "#- Explore arithmetic expressions in Python.\n"
   ]
  },
  {
   "cell_type": "code",
   "execution_count": null,
   "id": "12ac8cd1-7021-43ca-978a-908acf38ec82",
   "metadata": {},
   "outputs": [],
   "source": [
    "## Author\n",
    "# John Doe\n"
   ]
  }
 ],
 "metadata": {
  "kernelspec": {
   "display_name": "Python",
   "language": "python",
   "name": "conda-env-python-py"
  },
  "language_info": {
   "codemirror_mode": {
    "name": "ipython",
    "version": 3
   },
   "file_extension": ".py",
   "mimetype": "text/x-python",
   "name": "python",
   "nbconvert_exporter": "python",
   "pygments_lexer": "ipython3",
   "version": "3.7.12"
  }
 },
 "nbformat": 4,
 "nbformat_minor": 5
}
